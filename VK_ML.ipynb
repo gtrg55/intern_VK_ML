{
 "cells": [
  {
   "cell_type": "code",
   "execution_count": 5,
   "id": "3c67271d-e4aa-4089-b3d9-0c02987dd88a",
   "metadata": {},
   "outputs": [],
   "source": [
    "import pandas as pd\n",
    "import torch\n",
    "from torchtext.legacy import data\n",
    "import spacy\n",
    "from sklearn.feature_extraction.text import TfidfVectorizer\n",
    "from sklearn.model_selection import train_test_split\n",
    "from sklearn.metrics import roc_auc_score\n",
    "from sklearn.naive_bayes import MultinomialNB\n",
    "from sklearn.linear_model import LogisticRegression\n",
    "from sklearn.ensemble import RandomForestClassifier\n",
    "from sklearn.pipeline import Pipeline\n",
    "\n"
   ]
  },
  {
   "cell_type": "code",
   "execution_count": 9,
   "id": "96184373-3c4c-4817-9ade-dfbdf9d531ff",
   "metadata": {},
   "outputs": [
    {
     "name": "stdout",
     "output_type": "stream",
     "text": [
      "text_type\n",
      "ham     11469\n",
      "spam     4809\n",
      "Name: count, dtype: int64\n",
      "ROC-AUC score: 0.9544561907555054\n"
     ]
    }
   ],
   "source": [
    "\n",
    "nlp = spacy.load('en_core_web_sm')\n",
    "SEED = 4444\n",
    "torch.manual_seed(SEED)\n",
    "torch.backends.cudnn.deterministic = True\n",
    "train_data = pd.read_csv('train_spam.csv')\n",
    "test_data = pd.read_csv('test_spam.csv')\n",
    "\n",
    "\n",
    "from sklearn.model_selection import train_test_split\n",
    "X_train, X_val, y_train, y_val = train_test_split(\n",
    "    train_data['text'],\n",
    "    train_data['text_type'],\n",
    "    test_size=0.2,\n",
    "    random_state=SEED\n",
    ")\n",
    "\n",
    "print(train_data['text_type'].value_counts())\n",
    "\n",
    "\n",
    "tfidf_vect = TfidfVectorizer(stop_words='english', max_features=1000)\n",
    "\n",
    "\n",
    "X_train, X_val, y_train, y_val = train_test_split(train_data['text'], train_data['text_type'], test_size=0.2, random_state=SEED)\n",
    "\n",
    "\n",
    "model = Pipeline([\n",
    "    ('tfidf', tfidf_vect),\n",
    "    ('clf', MultinomialNB())\n",
    "])\n",
    "\n",
    "\n",
    "model.fit(X_train, y_train)\n",
    "\n",
    "\n",
    "y_pred = model.predict_proba(X_val)[:, 1]\n",
    "roc_auc = roc_auc_score(y_val, y_pred)\n",
    "print(f'ROC-AUC score: {roc_auc}')\n"
   ]
  },
  {
   "cell_type": "code",
   "execution_count": 11,
   "id": "a6b184a1-208b-4e56-a537-f4f477184a85",
   "metadata": {},
   "outputs": [
    {
     "name": "stdout",
     "output_type": "stream",
     "text": [
      "                                                   text     score\n",
      "0     j jim whitehead ejw cse ucsc edu writes j you ...  0.047463\n",
      "1     original message from bitbitch magnesium net p...  0.069593\n",
      "2     java for managers vince durasoft who just taug...  0.005510\n",
      "3                  there is a youtuber name saiman says  0.072553\n",
      "4     underpriced issue with high return on equity t...  0.173590\n",
      "...                                                 ...       ...\n",
      "4065  husband to wifetum meri zindagi hoorwifeor kya...  0.247623\n",
      "4066  baylor enron case study cindy yes i shall co a...  0.000059\n",
      "4067                           boring as compared to tp  0.295270\n",
      "4068  hellogorgeous hows u my fone was on charge lst...  0.143612\n",
      "4069  energy conference mark we are really swamped a...  0.000412\n",
      "\n",
      "[4070 rows x 2 columns]\n"
     ]
    }
   ],
   "source": [
    "\n",
    "test_texts = test_data['text'].tolist()\n",
    "\n",
    "test_probs = model.predict_proba(test_texts)[:, 1]  \n",
    "\n",
    "results = pd.DataFrame({'text': test_texts, 'score': test_probs})\n",
    "\n",
    "results.to_csv('test_predictions.csv', index=False)\n",
    "print(results)\n"
   ]
  },
  {
   "cell_type": "code",
   "execution_count": null,
   "id": "893599c8-a1ff-4ab0-b8a6-c7d43c013644",
   "metadata": {},
   "outputs": [],
   "source": []
  }
 ],
 "metadata": {
  "kernelspec": {
   "display_name": "Python 3 (ipykernel)",
   "language": "python",
   "name": "python3"
  },
  "language_info": {
   "codemirror_mode": {
    "name": "ipython",
    "version": 3
   },
   "file_extension": ".py",
   "mimetype": "text/x-python",
   "name": "python",
   "nbconvert_exporter": "python",
   "pygments_lexer": "ipython3",
   "version": "3.8.10"
  }
 },
 "nbformat": 4,
 "nbformat_minor": 5
}
